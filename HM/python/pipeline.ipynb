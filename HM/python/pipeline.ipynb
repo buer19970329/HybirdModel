{
 "cells": [
  {
   "cell_type": "markdown",
   "id": "8491d1c8-2ad1-43ce-a6d0-d36e37391e07",
   "metadata": {},
   "source": [
    "<br><br><font color=#008000 ><font size='3'>HM fitting <br><br><font color=#008000 ><font size='3'>\n",
    "\n",
    "Reference:  \n",
    "    \n",
    "    Esser, R., Korn, C. W., Ganzer, F., & Haaker, J. (2021). L-DOPA modulates activity in the vmPFC, nucleus accumbens, and VTA during threat extinction learning in humans. eLife, 10, e65280. https://doi.org/10.7554/eLife.65280"
   ]
  },
  {
   "cell_type": "code",
   "execution_count": 1,
   "id": "2ab17f3d-741c-4a04-9c1d-1dd82994d369",
   "metadata": {
    "tags": []
   },
   "outputs": [],
   "source": [
    "import numpy as np\n",
    "import pandas as pd\n",
    "import os\n",
    "\n",
    "behavdir = '/Users/linxiaomin/Desktop/LINIP/Python/RL_Model/ALL/'\n",
    "df = pd.read_csv(os.path.join(behavdir,'DEXT_US_expcectancy.csv')) # find original data at [https://osf.io/6tfu3]"
   ]
  },
  {
   "cell_type": "code",
   "execution_count": 2,
   "id": "cc018f95-5036-421f-b068-195eb6bfe6ce",
   "metadata": {
    "tags": []
   },
   "outputs": [],
   "source": [
    "df = df[df.columns.drop(list(df.filter(regex='d1')))]      # 删除 day1 'Acquisition'\n",
    "df = df[df.columns.drop(list(df.filter(regex='d3')))]      # 删除 day3 'retrieval'\n",
    "df = df[df.columns.drop(list(df.filter(regex='CSP')))]     # 删除 Block gap\n",
    "df = df[df.columns.drop(list(df.filter(regex='MEAN')))]    # 删除 mean of US expectancy\n",
    "df = df.drop(columns = 'USintensity')                      # 删除 US强度\n",
    "df = df.drop(columns = 'USvalenceRat_Cal')                 # 删除 US不愉悦度\n",
    "df = df.drop(columns = 'ID')                               # 删除 ID\n",
    "df = df.dropna(axis=0,thresh=8)                            # 删除 未作出反应 > 1/3 的被试"
   ]
  },
  {
   "cell_type": "code",
   "execution_count": 3,
   "id": "0907a712-ec20-4ca0-bb48-cd61a75f20c7",
   "metadata": {},
   "outputs": [
    {
     "data": {
      "text/html": [
       "<div>\n",
       "<style scoped>\n",
       "    .dataframe tbody tr th:only-of-type {\n",
       "        vertical-align: middle;\n",
       "    }\n",
       "\n",
       "    .dataframe tbody tr th {\n",
       "        vertical-align: top;\n",
       "    }\n",
       "\n",
       "    .dataframe thead th {\n",
       "        text-align: right;\n",
       "    }\n",
       "</style>\n",
       "<table border=\"1\" class=\"dataframe\">\n",
       "  <thead>\n",
       "    <tr style=\"text-align: right;\">\n",
       "      <th></th>\n",
       "      <th>group</th>\n",
       "      <th>d2_UsexpRating_CS_P_B1_1</th>\n",
       "      <th>d2_UsexpRating_CS_P_B1_2</th>\n",
       "      <th>d2_UsexpRating_CS_P_B1_3</th>\n",
       "      <th>d2_UsexpRating_CS_P_B1_4</th>\n",
       "      <th>d2_UsexpRating_CS_P_B1_5</th>\n",
       "      <th>d2_UsexpRating_CS_P_B1_6</th>\n",
       "      <th>d2_UsexpRating_CS_P_B1_7</th>\n",
       "      <th>d2_UsexpRating_CS_P_B1_8</th>\n",
       "      <th>d2_UsexpRating_CS_P_B2_1</th>\n",
       "      <th>...</th>\n",
       "      <th>d2_UsexpRating_CS_M_B2_7</th>\n",
       "      <th>d2_UsexpRating_CS_M_B2_8</th>\n",
       "      <th>d2_UsexpRating_CS_M_B3_1</th>\n",
       "      <th>d2_UsexpRating_CS_M_B3_2</th>\n",
       "      <th>d2_UsexpRating_CS_M_B3_3</th>\n",
       "      <th>d2_UsexpRating_CS_M_B3_4</th>\n",
       "      <th>d2_UsexpRating_CS_M_B3_5</th>\n",
       "      <th>d2_UsexpRating_CS_M_B3_6</th>\n",
       "      <th>d2_UsexpRating_CS_M_B3_7</th>\n",
       "      <th>d2_UsexpRating_CS_M_B3_8</th>\n",
       "    </tr>\n",
       "  </thead>\n",
       "  <tbody>\n",
       "    <tr>\n",
       "      <th>0</th>\n",
       "      <td>2</td>\n",
       "      <td>0.0</td>\n",
       "      <td>1.0</td>\n",
       "      <td>0.0</td>\n",
       "      <td>1.0</td>\n",
       "      <td>1.0</td>\n",
       "      <td>1.0</td>\n",
       "      <td>0.0</td>\n",
       "      <td>1.0</td>\n",
       "      <td>0.0</td>\n",
       "      <td>...</td>\n",
       "      <td>0.0</td>\n",
       "      <td>0.0</td>\n",
       "      <td>0.0</td>\n",
       "      <td>1.0</td>\n",
       "      <td>0.0</td>\n",
       "      <td>1.0</td>\n",
       "      <td>0.0</td>\n",
       "      <td>1.0</td>\n",
       "      <td>1.0</td>\n",
       "      <td>0.0</td>\n",
       "    </tr>\n",
       "    <tr>\n",
       "      <th>1</th>\n",
       "      <td>1</td>\n",
       "      <td>1.0</td>\n",
       "      <td>1.0</td>\n",
       "      <td>1.0</td>\n",
       "      <td>1.0</td>\n",
       "      <td>1.0</td>\n",
       "      <td>1.0</td>\n",
       "      <td>0.0</td>\n",
       "      <td>0.0</td>\n",
       "      <td>0.0</td>\n",
       "      <td>...</td>\n",
       "      <td>0.0</td>\n",
       "      <td>0.0</td>\n",
       "      <td>0.0</td>\n",
       "      <td>0.0</td>\n",
       "      <td>0.0</td>\n",
       "      <td>0.0</td>\n",
       "      <td>0.0</td>\n",
       "      <td>0.0</td>\n",
       "      <td>0.0</td>\n",
       "      <td>0.0</td>\n",
       "    </tr>\n",
       "    <tr>\n",
       "      <th>2</th>\n",
       "      <td>2</td>\n",
       "      <td>1.0</td>\n",
       "      <td>1.0</td>\n",
       "      <td>0.0</td>\n",
       "      <td>0.0</td>\n",
       "      <td>0.0</td>\n",
       "      <td>0.0</td>\n",
       "      <td>0.0</td>\n",
       "      <td>0.0</td>\n",
       "      <td>0.0</td>\n",
       "      <td>...</td>\n",
       "      <td>0.0</td>\n",
       "      <td>0.0</td>\n",
       "      <td>0.0</td>\n",
       "      <td>0.0</td>\n",
       "      <td>0.0</td>\n",
       "      <td>0.0</td>\n",
       "      <td>0.0</td>\n",
       "      <td>0.0</td>\n",
       "      <td>1.0</td>\n",
       "      <td>0.0</td>\n",
       "    </tr>\n",
       "    <tr>\n",
       "      <th>3</th>\n",
       "      <td>1</td>\n",
       "      <td>1.0</td>\n",
       "      <td>1.0</td>\n",
       "      <td>1.0</td>\n",
       "      <td>1.0</td>\n",
       "      <td>0.0</td>\n",
       "      <td>0.0</td>\n",
       "      <td>0.0</td>\n",
       "      <td>0.0</td>\n",
       "      <td>0.0</td>\n",
       "      <td>...</td>\n",
       "      <td>0.0</td>\n",
       "      <td>0.0</td>\n",
       "      <td>0.0</td>\n",
       "      <td>1.0</td>\n",
       "      <td>0.0</td>\n",
       "      <td>0.0</td>\n",
       "      <td>0.0</td>\n",
       "      <td>0.0</td>\n",
       "      <td>0.0</td>\n",
       "      <td>1.0</td>\n",
       "    </tr>\n",
       "    <tr>\n",
       "      <th>4</th>\n",
       "      <td>1</td>\n",
       "      <td>1.0</td>\n",
       "      <td>1.0</td>\n",
       "      <td>1.0</td>\n",
       "      <td>1.0</td>\n",
       "      <td>1.0</td>\n",
       "      <td>1.0</td>\n",
       "      <td>1.0</td>\n",
       "      <td>1.0</td>\n",
       "      <td>1.0</td>\n",
       "      <td>...</td>\n",
       "      <td>0.0</td>\n",
       "      <td>0.0</td>\n",
       "      <td>0.0</td>\n",
       "      <td>0.0</td>\n",
       "      <td>0.0</td>\n",
       "      <td>0.0</td>\n",
       "      <td>0.0</td>\n",
       "      <td>0.0</td>\n",
       "      <td>0.0</td>\n",
       "      <td>0.0</td>\n",
       "    </tr>\n",
       "  </tbody>\n",
       "</table>\n",
       "<p>5 rows × 49 columns</p>\n",
       "</div>"
      ],
      "text/plain": [
       "   group  d2_UsexpRating_CS_P_B1_1  d2_UsexpRating_CS_P_B1_2  \\\n",
       "0      2                       0.0                       1.0   \n",
       "1      1                       1.0                       1.0   \n",
       "2      2                       1.0                       1.0   \n",
       "3      1                       1.0                       1.0   \n",
       "4      1                       1.0                       1.0   \n",
       "\n",
       "   d2_UsexpRating_CS_P_B1_3  d2_UsexpRating_CS_P_B1_4  \\\n",
       "0                       0.0                       1.0   \n",
       "1                       1.0                       1.0   \n",
       "2                       0.0                       0.0   \n",
       "3                       1.0                       1.0   \n",
       "4                       1.0                       1.0   \n",
       "\n",
       "   d2_UsexpRating_CS_P_B1_5  d2_UsexpRating_CS_P_B1_6  \\\n",
       "0                       1.0                       1.0   \n",
       "1                       1.0                       1.0   \n",
       "2                       0.0                       0.0   \n",
       "3                       0.0                       0.0   \n",
       "4                       1.0                       1.0   \n",
       "\n",
       "   d2_UsexpRating_CS_P_B1_7  d2_UsexpRating_CS_P_B1_8  \\\n",
       "0                       0.0                       1.0   \n",
       "1                       0.0                       0.0   \n",
       "2                       0.0                       0.0   \n",
       "3                       0.0                       0.0   \n",
       "4                       1.0                       1.0   \n",
       "\n",
       "   d2_UsexpRating_CS_P_B2_1  ...  d2_UsexpRating_CS_M_B2_7  \\\n",
       "0                       0.0  ...                       0.0   \n",
       "1                       0.0  ...                       0.0   \n",
       "2                       0.0  ...                       0.0   \n",
       "3                       0.0  ...                       0.0   \n",
       "4                       1.0  ...                       0.0   \n",
       "\n",
       "   d2_UsexpRating_CS_M_B2_8  d2_UsexpRating_CS_M_B3_1  \\\n",
       "0                       0.0                       0.0   \n",
       "1                       0.0                       0.0   \n",
       "2                       0.0                       0.0   \n",
       "3                       0.0                       0.0   \n",
       "4                       0.0                       0.0   \n",
       "\n",
       "   d2_UsexpRating_CS_M_B3_2  d2_UsexpRating_CS_M_B3_3  \\\n",
       "0                       1.0                       0.0   \n",
       "1                       0.0                       0.0   \n",
       "2                       0.0                       0.0   \n",
       "3                       1.0                       0.0   \n",
       "4                       0.0                       0.0   \n",
       "\n",
       "   d2_UsexpRating_CS_M_B3_4  d2_UsexpRating_CS_M_B3_5  \\\n",
       "0                       1.0                       0.0   \n",
       "1                       0.0                       0.0   \n",
       "2                       0.0                       0.0   \n",
       "3                       0.0                       0.0   \n",
       "4                       0.0                       0.0   \n",
       "\n",
       "   d2_UsexpRating_CS_M_B3_6  d2_UsexpRating_CS_M_B3_7  \\\n",
       "0                       1.0                       1.0   \n",
       "1                       0.0                       0.0   \n",
       "2                       0.0                       1.0   \n",
       "3                       0.0                       0.0   \n",
       "4                       0.0                       0.0   \n",
       "\n",
       "   d2_UsexpRating_CS_M_B3_8  \n",
       "0                       0.0  \n",
       "1                       0.0  \n",
       "2                       0.0  \n",
       "3                       1.0  \n",
       "4                       0.0  \n",
       "\n",
       "[5 rows x 49 columns]"
      ]
     },
     "execution_count": 3,
     "metadata": {},
     "output_type": "execute_result"
    }
   ],
   "source": [
    "df.head()"
   ]
  },
  {
   "cell_type": "code",
   "execution_count": 4,
   "id": "ae3595f1-c8bf-4b5b-b23d-a34d38507ac5",
   "metadata": {},
   "outputs": [],
   "source": [
    "# 按group索引把两组分开\n",
    "\n",
    "group = df['group'].unique()\n",
    "for i in group:\n",
    "    split = df[df['group'].isin([i])]\n",
    "    exec(\"df%s = split\" % i)"
   ]
  },
  {
   "cell_type": "code",
   "execution_count": 5,
   "id": "d41a9632-3642-4c49-b691-c5d346c87941",
   "metadata": {},
   "outputs": [
    {
     "name": "stdout",
     "output_type": "stream",
     "text": [
      "(21, 48)\n"
     ]
    }
   ],
   "source": [
    "# 生成安慰剂组US expectancy数据\n",
    "\n",
    "df1 = df1.drop(columns = 'group')\n",
    "data1 = df1.to_numpy(dtype='int8') \n",
    "print(data1.shape)"
   ]
  },
  {
   "cell_type": "code",
   "execution_count": 6,
   "id": "4419b538-8c9c-41ff-b355-717c402eea87",
   "metadata": {},
   "outputs": [
    {
     "name": "stdout",
     "output_type": "stream",
     "text": [
      "(22, 48)\n"
     ]
    }
   ],
   "source": [
    "# 生成L-DOPA组US expectancy数据\n",
    "\n",
    "df2 = df2.drop(columns = 'group')\n",
    "data2 = df2.to_numpy(dtype='int8') \n",
    "print(data2.shape)"
   ]
  },
  {
   "cell_type": "code",
   "execution_count": 36,
   "id": "cbe91eb1-8eb4-4b74-9637-a88aec61ab11",
   "metadata": {},
   "outputs": [
    {
     "data": {
      "text/plain": [
       "array([1, 1, 1, 0, 1, 0, 1, 0, 1, 1, 1, 1, 0, 0, 0, 0, 0, 0, 1, 1, 0, 1,\n",
       "       0, 0, 1, 1, 1, 0, 1, 0, 1, 1, 0, 1, 0, 1, 1, 0, 1, 0, 1, 0, 1, 0,\n",
       "       1, 1, 1, 0])"
      ]
     },
     "execution_count": 36,
     "metadata": {},
     "output_type": "execute_result"
    }
   ],
   "source": [
    "# 生成一组随机的 CS+/CS(1/0) 序列， - [test]\n",
    "# 生成received outcome - [ro]\n",
    "\n",
    "test = np.random.randint(0,2,48)\n",
    "ro = np.zeros_like(test)\n",
    "test"
   ]
  },
  {
   "cell_type": "code",
   "execution_count": 56,
   "id": "5d585343-3eb3-495b-890a-782fc855b430",
   "metadata": {},
   "outputs": [
    {
     "data": {
      "text/plain": [
       "\u001b[0;31mInit signature:\u001b[0m \u001b[0mHM\u001b[0m\u001b[0;34m(\u001b[0m\u001b[0mdim\u001b[0m\u001b[0;34m,\u001b[0m \u001b[0malpha\u001b[0m\u001b[0;34m,\u001b[0m \u001b[0mbeta\u001b[0m\u001b[0;34m,\u001b[0m \u001b[0mw\u001b[0m\u001b[0;34m)\u001b[0m\u001b[0;34m\u001b[0m\u001b[0;34m\u001b[0m\u001b[0m\n",
       "\u001b[0;31mDocstring:\u001b[0m     \n",
       "Parameters\n",
       "----------\n",
       "dim: length of seq (i.e., len(seq))\n",
       "alpha, beta ,w : params needed to be estimated \n",
       "\n",
       "\n",
       "Modules \n",
       "----------\n",
       "lik: likelihood function, return negative log likelihood (NegLL)\n",
       "fit: using non-linear Nelder-Mead simplex search algorithm to minimize NegLL summed over all trials for each subjects\n",
       "plot: 有生之年系列\n",
       "\u001b[0;31mFile:\u001b[0m           ~/Desktop/LINIP/Python/未命名文件夹/HM/HM.py\n",
       "\u001b[0;31mType:\u001b[0m           type\n",
       "\u001b[0;31mSubclasses:\u001b[0m     \n"
      ]
     },
     "metadata": {},
     "output_type": "display_data"
    }
   ],
   "source": [
    "from HM import *\n",
    "HM?"
   ]
  },
  {
   "cell_type": "code",
   "execution_count": 57,
   "id": "ef1d2b9f-db5a-46fb-ab70-d54470d168c4",
   "metadata": {},
   "outputs": [
    {
     "data": {
      "text/plain": [
       "\u001b[0;31mSignature:\u001b[0m \u001b[0mHM\u001b[0m\u001b[0;34m.\u001b[0m\u001b[0mlik\u001b[0m\u001b[0;34m(\u001b[0m\u001b[0mself\u001b[0m\u001b[0;34m,\u001b[0m \u001b[0mresp\u001b[0m\u001b[0;34m,\u001b[0m \u001b[0mseq\u001b[0m\u001b[0;34m,\u001b[0m \u001b[0mro\u001b[0m\u001b[0;34m)\u001b[0m\u001b[0;34m\u001b[0m\u001b[0;34m\u001b[0m\u001b[0m\n",
       "\u001b[0;31mDocstring:\u001b[0m\n",
       "1. softmax function:\n",
       "    p = e ** (beta*v) / ∑ e ** (beta*v)\n",
       "        = 1 / (1 + e ** (beta* (v(cs-)-v(cs+)))\n",
       "        = 1 / (1 + e ** (-beta * v))  # v(CS-) equals 0     \n",
       "2. update predict reward:\n",
       "    v += α * η * PE\n",
       "3. calculate prediction error:\n",
       "    PE = ro - v\n",
       "4. update eta: \n",
       "    η = w * |PE| + (1-w) * η\n",
       "5. NegLL\n",
       "    -∑ y * log (y_hat)\n",
       "\u001b[0;31mFile:\u001b[0m      ~/Desktop/LINIP/Python/未命名文件夹/HM/HM.py\n",
       "\u001b[0;31mType:\u001b[0m      function\n"
      ]
     },
     "metadata": {},
     "output_type": "display_data"
    }
   ],
   "source": [
    "HM.lik?"
   ]
  },
  {
   "cell_type": "code",
   "execution_count": 39,
   "id": "3c5f052b-7af1-4df0-9058-e6b657951206",
   "metadata": {},
   "outputs": [],
   "source": [
    "# 定义实验模型\n",
    "\n",
    "test111 = HM(dim=len(test),alpha = 0.5,beta=4,w=0.5)"
   ]
  },
  {
   "cell_type": "code",
   "execution_count": 40,
   "id": "3839981d-5091-4601-989d-478893b38d10",
   "metadata": {
    "tags": []
   },
   "outputs": [
    {
     "name": "stdout",
     "output_type": "stream",
     "text": [
      "[[ 0.64907258 14.          0.        ]\n",
      " [ 0.67184905 14.          0.        ]\n",
      " [ 0.61819895 13.99982486  0.09490327]\n",
      " [ 0.66228005 14.          0.        ]\n",
      " [ 0.79069454 14.          1.        ]\n",
      " [ 0.66196494 14.          0.        ]\n",
      " [ 0.         14.          1.        ]\n",
      " [ 0.         14.          0.81944444]\n",
      " [ 0.         14.          0.81944444]\n",
      " [ 0.64146537 14.          0.43188635]\n",
      " [ 0.60719624 14.          0.        ]\n",
      " [ 0.37580047 10.21998889  0.46258362]\n",
      " [ 0.67192747 14.          0.        ]\n",
      " [ 0.60579986 14.          0.        ]\n",
      " [ 0.82756582 14.          1.        ]\n",
      " [ 0.14411158 14.          0.        ]\n",
      " [ 0.35312172  2.93822157  1.        ]\n",
      " [ 0.60594687 14.          0.        ]\n",
      " [ 0.63433158 13.99999284  0.        ]\n",
      " [ 0.17928158 14.          0.        ]\n",
      " [ 0.         14.          0.81944444]]\n",
      "[16.57477974 16.80009525 35.71596456 26.33089653 23.1048017  19.39882298\n",
      " 11.6136581  11.61376825 11.61376825 22.74236192 34.37552647 15.945302\n",
      " 15.4138172  41.30361345 19.40885094 14.61366896 15.49327358 31.60054075\n",
      " 19.24472706 19.85828002 11.61387839]\n",
      "[-2.48058835e+00 -2.59324611e+00 -1.20511808e+01 -7.35864675e+00\n",
      " -5.74559934e+00 -3.89260997e+00 -2.75360702e-05 -8.26082107e-05\n",
      " -8.26082107e-05 -5.56437944e+00 -1.13809617e+01 -2.16584948e+00\n",
      " -1.90010708e+00 -1.48450052e+01 -3.89762396e+00 -1.50003297e+00\n",
      " -1.93983527e+00 -9.99346886e+00 -3.81556201e+00 -4.12233849e+00\n",
      " -1.37680351e-04]\n"
     ]
    }
   ],
   "source": [
    "# 拟合模型 - \n",
    "# y: binary US expectancy \n",
    "# y-hat: probabilities of choosing\n",
    "\n",
    "xfit1,BIC1,LL1 = test111.fit(data1,test,ro)\n",
    "print(xfit1)\n",
    "print(BIC1)\n",
    "print(LL1)"
   ]
  },
  {
   "cell_type": "code",
   "execution_count": 41,
   "id": "6b143692-cc18-4546-a37d-b62ab95ba250",
   "metadata": {},
   "outputs": [
    {
     "name": "stdout",
     "output_type": "stream",
     "text": [
      "[[7.41063979e-01 1.40000000e+01 0.00000000e+00]\n",
      " [0.00000000e+00 1.40000000e+01 8.19444444e-01]\n",
      " [0.00000000e+00 1.40000000e+01 1.00000000e+00]\n",
      " [0.00000000e+00 1.40000000e+01 8.19444444e-01]\n",
      " [3.34358671e-01 1.40000000e+01 9.50693835e-02]\n",
      " [6.71911981e-01 1.40000000e+01 0.00000000e+00]\n",
      " [6.22503094e-01 1.40000000e+01 3.66558824e-01]\n",
      " [0.00000000e+00 1.40000000e+01 8.19444444e-01]\n",
      " [6.71925943e-01 1.40000000e+01 0.00000000e+00]\n",
      " [3.73795738e-01 2.48748669e+00 1.00000000e+00]\n",
      " [4.83277383e-01 1.39796096e+01 8.35845393e-08]\n",
      " [6.34373096e-01 1.40000000e+01 0.00000000e+00]\n",
      " [6.06800906e-01 1.39999805e+01 0.00000000e+00]\n",
      " [4.39571014e-01 7.22075432e+00 1.00000000e+00]\n",
      " [6.31387383e-01 1.39996199e+01 1.79067190e-01]\n",
      " [6.06848562e-01 1.40000000e+01 0.00000000e+00]\n",
      " [3.53120109e-01 3.98885951e+00 1.00000000e+00]\n",
      " [0.00000000e+00 1.40000000e+01 8.19444444e-01]\n",
      " [8.82898948e-01 1.40000000e+01 0.00000000e+00]\n",
      " [6.71936877e-01 1.40000000e+01 0.00000000e+00]\n",
      " [0.00000000e+00 1.40000000e+01 8.19444444e-01]\n",
      " [6.63261073e-01 1.40000000e+01 5.39279252e-01]]\n",
      "[43.6997085  11.61376825 11.61371318 11.61398854 15.47446711 16.80009522\n",
      " 43.1121428  11.61376825 15.41380088 19.25177305 13.01261093 20.63102125\n",
      " 41.30600099 19.26125204 34.20873402 38.53363304 19.19804473 11.61382332\n",
      " 15.77254119 16.80011155 11.61376825 16.2730481 ]\n",
      "[-1.60430527e+01 -8.26082107e-05 -5.50721405e-05 -1.92752492e-04\n",
      " -1.93043204e+00 -2.59324609e+00 -1.57492699e+01 -8.26082107e-05\n",
      " -1.90009892e+00 -3.81908501e+00 -6.99503946e-01 -4.50870911e+00\n",
      " -1.48461990e+01 -3.82382450e+00 -1.12975655e+01 -1.34600150e+01\n",
      " -3.79222085e+00 -1.10144281e-04 -2.07946908e+00 -2.59325426e+00\n",
      " -8.26082107e-05 -2.32972253e+00]\n"
     ]
    }
   ],
   "source": [
    "xfit2,BIC2,LL2 = test111.fit(data2,test,ro)\n",
    "print(xfit2)\n",
    "print(BIC2)\n",
    "print(LL2)"
   ]
  },
  {
   "cell_type": "markdown",
   "id": "cb2ba011-25fc-44a0-b3bb-045625195f60",
   "metadata": {},
   "source": [
    "# Next step: 拿出BIC & eta & PE & alpha"
   ]
  },
  {
   "cell_type": "code",
   "execution_count": 42,
   "id": "1c5e80b2-8b6b-44e4-8862-5158c32a6d79",
   "metadata": {
    "tags": []
   },
   "outputs": [],
   "source": [
    "def get_params(resp,seq,ro,alpha,beta,w):\n",
    "    import numpy as np\n",
    "\n",
    "    eta = np.zeros(np.shape(seq)[0]+1,dtype='float')    \n",
    "    expProb = np.zeros_like(seq,dtype='float')\n",
    "    valueV = np.zeros_like(seq,dtype='float')\n",
    "    PEE = np.zeros_like(seq,dtype='float')\n",
    "    v = np.array([0.25,0.75])\n",
    "    eta[0] = 1\n",
    "    \n",
    "    for t in range(len(seq)):\n",
    "        \n",
    "        p = np.exp(beta*v) / np.sum(np.exp(beta*v))\n",
    "        \n",
    "        expProb[t] = p[seq[t]]\n",
    "        \n",
    "        PE = ro[t]-v[seq[t]]\n",
    "        \n",
    "        PEE[t] = PE\n",
    "        \n",
    "        v[seq[t]] = v[seq[t]] + alpha * PE * eta[t]\n",
    "        \n",
    "        eta[t+1] = w * np.abs(PE) + (1-w) * eta[t]\n",
    "        \n",
    "        valueV[t] = v[seq[t]]\n",
    "        \n",
    "    _,*eta = eta\n",
    "    NegLL = -np.sum(resp * np.log(expProb));\n",
    "    eta = np.array(eta)\n",
    "    return eta,valueV,PEE,NegLL"
   ]
  },
  {
   "cell_type": "code",
   "execution_count": 43,
   "id": "0b8806bc-cf18-45d5-a18d-934409275004",
   "metadata": {
    "tags": []
   },
   "outputs": [],
   "source": [
    "g1eta_mean = []\n",
    "g1valueV_mean = []\n",
    "g1PEE_mean = []\n",
    "g1NegLL_all = []\n",
    "\n",
    "for n, i in enumerate(xfit1):\n",
    "\n",
    "    exec(\"g1eta_%s,g1valueV_%s,g1PEE_%s,g1NegLL_%s = get_params(data1[n,:],test,ro,i[0],i[1],i[2])\" % (n,n,n,n))\n",
    "    \n",
    "    exec (\"g1eta_mean.append(np.mean(g1eta_%s))\" % (n))\n",
    "    exec (\"g1valueV_mean.append(np.mean(g1valueV_%s))\" % (n))\n",
    "    exec (\"g1PEE_mean.append(np.mean(g1PEE_%s))\" % (n))\n",
    "    exec (\"g1NegLL_all.append(g1NegLL_%s)\" % (n))\n",
    "\n",
    "g2eta_mean = []\n",
    "g2valueV_mean = []\n",
    "g2PEE_mean = []\n",
    "g2NegLL_all =[]\n",
    "\n",
    "for n, i in enumerate(xfit2):\n",
    "    exec(\"g2eta_%s,g2valueV_%s,g2PEE_%s,g2NegLL_%s = get_params(data2[n,:],test,ro,i[0],i[1],i[2])\" % (n,n,n,n))\n",
    "\n",
    "    exec (\"g2eta_mean.append(np.mean(g2eta_%s))\" % (n))\n",
    "    exec (\"g2valueV_mean.append(np.mean(g2valueV_%s))\" % (n))\n",
    "    exec (\"g2PEE_mean.append(np.mean(g2PEE_%s))\" % (n))\n",
    "    exec (\"g2NegLL_all.append(g2NegLL_%s)\" % (n))"
   ]
  },
  {
   "cell_type": "code",
   "execution_count": 44,
   "id": "6756e873-880e-469b-ba2b-f4c009b62745",
   "metadata": {},
   "outputs": [],
   "source": [
    "from scipy import stats\n",
    "import numpy as np"
   ]
  },
  {
   "cell_type": "code",
   "execution_count": 45,
   "id": "d7f6ea7d-6d8e-4453-b1e1-d760c8fc1b3c",
   "metadata": {},
   "outputs": [
    {
     "data": {
      "text/plain": [
       "Ttest_indResult(statistic=-0.04999435817201226, pvalue=0.9603696515124492)"
      ]
     },
     "execution_count": 45,
     "metadata": {},
     "output_type": "execute_result"
    }
   ],
   "source": [
    "stats.ttest_ind(BIC1,BIC2)"
   ]
  },
  {
   "cell_type": "code",
   "execution_count": 46,
   "id": "f0c417f7-a0fc-4c28-8e71-82cb2d8cb8c5",
   "metadata": {},
   "outputs": [
    {
     "data": {
      "text/plain": [
       "Ttest_indResult(statistic=0.5256890730735138, pvalue=0.6019361251039703)"
      ]
     },
     "execution_count": 46,
     "metadata": {},
     "output_type": "execute_result"
    }
   ],
   "source": [
    "stats.ttest_ind(g1eta_mean,g2eta_mean)"
   ]
  },
  {
   "cell_type": "code",
   "execution_count": 47,
   "id": "8f79990d-9c1b-4f73-94ea-0f4ecf672dbe",
   "metadata": {},
   "outputs": [
    {
     "data": {
      "text/plain": [
       "Ttest_indResult(statistic=-0.6080260605794007, pvalue=0.5465237768852431)"
      ]
     },
     "execution_count": 47,
     "metadata": {},
     "output_type": "execute_result"
    }
   ],
   "source": [
    "stats.ttest_ind(g1valueV_mean,g2valueV_mean)"
   ]
  },
  {
   "cell_type": "code",
   "execution_count": 48,
   "id": "23f20ebc-8b8e-447e-bbda-87a3614b16c7",
   "metadata": {},
   "outputs": [
    {
     "data": {
      "text/plain": [
       "Ttest_indResult(statistic=0.604818642919674, pvalue=0.5486324492234439)"
      ]
     },
     "execution_count": 48,
     "metadata": {},
     "output_type": "execute_result"
    }
   ],
   "source": [
    "stats.ttest_ind(g1PEE_mean,g2PEE_mean)"
   ]
  },
  {
   "cell_type": "code",
   "execution_count": 49,
   "id": "7a971dcd-32f9-40e1-8739-ea21f52909c1",
   "metadata": {},
   "outputs": [
    {
     "data": {
      "text/plain": [
       "Ttest_indResult(statistic=0.04829917517011331, pvalue=0.9617123281963362)"
      ]
     },
     "execution_count": 49,
     "metadata": {},
     "output_type": "execute_result"
    }
   ],
   "source": [
    "stats.ttest_ind(g1NegLL_all,g2NegLL_all)"
   ]
  },
  {
   "cell_type": "code",
   "execution_count": null,
   "id": "f355c578-b2a3-4a8f-9a6f-69a804d281f8",
   "metadata": {},
   "outputs": [],
   "source": []
  }
 ],
 "metadata": {
  "kernelspec": {
   "display_name": "Python 3",
   "language": "python",
   "name": "python3"
  },
  "language_info": {
   "codemirror_mode": {
    "name": "ipython",
    "version": 3
   },
   "file_extension": ".py",
   "mimetype": "text/x-python",
   "name": "python",
   "nbconvert_exporter": "python",
   "pygments_lexer": "ipython3",
   "version": "3.9.0"
  }
 },
 "nbformat": 4,
 "nbformat_minor": 5
}
