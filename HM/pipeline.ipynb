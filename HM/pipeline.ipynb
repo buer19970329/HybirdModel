{
 "cells": [
  {
   "cell_type": "code",
   "execution_count": 1,
   "id": "2ab17f3d-741c-4a04-9c1d-1dd82994d369",
   "metadata": {},
   "outputs": [],
   "source": [
    "import numpy as np\n",
    "import pandas as pd\n",
    "import os\n",
    "\n",
    "behavdir = '/Users/linxiaomin/Desktop/LINIP/Python/RL_Model/ALL/'\n",
    "df = pd.read_csv(os.path.join(behavdir,'DEXT_US_expcectancy.csv'))\n",
    "ro = np.array([0,0,0,0,0,0,0,0,0,0,0,0,0,0,0,0,0,0,0,0,0,0,0,0])"
   ]
  },
  {
   "cell_type": "code",
   "execution_count": 2,
   "id": "cc018f95-5036-421f-b068-195eb6bfe6ce",
   "metadata": {},
   "outputs": [],
   "source": [
    "df = df[df.columns.drop(list(df.filter(regex='d1')))]      # 删除 day1 'Acquisition'\n",
    "df = df[df.columns.drop(list(df.filter(regex='d3')))]      # 删除 day3 'retrieval'\n",
    "df = df[df.columns.drop(list(df.filter(regex='M_B')))]     # 删除 CS-\n",
    "df = df[df.columns.drop(list(df.filter(regex='CSP')))]     # 删除 Block gap\n",
    "df = df.drop(columns = 'USintensity')                      # 删除 US强度\n",
    "df = df.drop(columns = 'USvalenceRat_Cal')                 # 删除 US不愉悦度\n",
    "df = df.drop(columns = 'ID')                               # 删除 ID\n",
    "df = df.dropna(axis=0,thresh=8)                            # 删除 未作出反应 > 1/3 的被试"
   ]
  },
  {
   "cell_type": "code",
   "execution_count": 3,
   "id": "ae3595f1-c8bf-4b5b-b23d-a34d38507ac5",
   "metadata": {},
   "outputs": [],
   "source": [
    "# 按group索引把两组分开\n",
    "group = df['group'].unique()\n",
    "for i in group:\n",
    "    split = df[df['group'].isin([i])]\n",
    "    exec(\"df%s = split\" % i)"
   ]
  },
  {
   "cell_type": "code",
   "execution_count": 4,
   "id": "d41a9632-3642-4c49-b691-c5d346c87941",
   "metadata": {},
   "outputs": [
    {
     "name": "stdout",
     "output_type": "stream",
     "text": [
      "(21, 24)\n"
     ]
    }
   ],
   "source": [
    "df1 = df1.drop(columns = 'group')\n",
    "data1 = df1.to_numpy(dtype='int8') # 生成安慰剂组US expectancy数据\n",
    "print(data1.shape)"
   ]
  },
  {
   "cell_type": "code",
   "execution_count": 5,
   "id": "4419b538-8c9c-41ff-b355-717c402eea87",
   "metadata": {},
   "outputs": [
    {
     "name": "stdout",
     "output_type": "stream",
     "text": [
      "(22, 24)\n"
     ]
    }
   ],
   "source": [
    "df2 = df2.drop(columns = 'group')\n",
    "data2 = df2.to_numpy(dtype='int8') # 生成L-DOPA组US expectancy数据\n",
    "print(data2.shape)"
   ]
  },
  {
   "cell_type": "code",
   "execution_count": 6,
   "id": "a9c46297-0e3f-4a5c-8ef8-9f8ed4581d40",
   "metadata": {},
   "outputs": [],
   "source": [
    "from HM_lik import HM_lik"
   ]
  },
  {
   "cell_type": "code",
   "execution_count": 7,
   "id": "e488caf4-8933-4dd8-96ac-3e75b4b029e3",
   "metadata": {},
   "outputs": [],
   "source": [
    "from HM_fit import HM_fit"
   ]
  },
  {
   "cell_type": "code",
   "execution_count": 8,
   "id": "639c739c-6045-49f5-a304-f94471f34fd6",
   "metadata": {},
   "outputs": [
    {
     "data": {
      "text/plain": [
       "(array([[ 0.49785746,  7.6631109 ,  0.32442205],\n",
       "        [ 0.7546029 ,  8.8722532 ,  0.49096015],\n",
       "        [ 0.        ,  3.21887994,  0.96431537],\n",
       "        [ 0.37290347,  9.99844921,  0.28953772],\n",
       "        [ 0.66296296,  0.        ,  0.91018519],\n",
       "        [ 0.41193759,  8.47996534,  0.28893821],\n",
       "        [ 0.91018519,  0.        ,  0.63703704],\n",
       "        [ 1.        ,  9.49895767,  0.93084429],\n",
       "        [ 1.        ,  9.49895767,  0.93084429],\n",
       "        [ 0.81666667,  0.        ,  0.68333333],\n",
       "        [ 0.13162201, 14.        ,  1.        ],\n",
       "        [ 1.        , 14.        ,  1.        ],\n",
       "        [ 0.72351252,  9.02641615,  0.48841783],\n",
       "        [ 0.375     ,  0.        ,  0.81666667],\n",
       "        [ 0.81666667,  0.        ,  0.68333333],\n",
       "        [ 0.9149944 , 12.76969586,  1.        ],\n",
       "        [ 0.63703704,  0.        ,  0.91018519],\n",
       "        [ 0.2254441 , 14.        ,  1.        ],\n",
       "        [ 0.42447824,  9.04295799,  0.28635879],\n",
       "        [ 0.4733386 , 13.99995143,  0.24442123],\n",
       "        [ 0.88894455, 12.40829922,  0.75093991]]),\n",
       " array([-14.74457721, -14.13941302, -10.81346901, -14.49705792,\n",
       "        -16.63553233, -14.63905244, -16.63553233, -13.16580168,\n",
       "        -13.16580168, -16.63553233,  -9.2854121 , -11.00736335,\n",
       "        -14.26278023, -16.63553233, -16.63553233, -12.30904249,\n",
       "        -16.63553233, -12.60993093, -14.58519675, -14.16059324,\n",
       "        -12.83802215]),\n",
       " array([39.02331591, 37.81298754, 31.16109952, 38.52827733, 42.80522616,\n",
       "        38.81226637, 42.80522616, 35.86576485, 35.86576485, 42.80522616,\n",
       "        28.10498568, 31.5488882 , 38.05972195, 42.80522616, 42.80522616,\n",
       "        34.15224647, 42.80522616, 34.75402336, 38.70455498, 37.85534796,\n",
       "        35.2102058 ]))"
      ]
     },
     "execution_count": 8,
     "metadata": {},
     "output_type": "execute_result"
    }
   ],
   "source": [
    "HM_fit(data1,ro)"
   ]
  },
  {
   "cell_type": "code",
   "execution_count": 9,
   "id": "703ca140-243b-4bd6-9d84-35e28b77f47f",
   "metadata": {
    "tags": []
   },
   "outputs": [
    {
     "data": {
      "text/plain": [
       "(array([[ 0.34406136,  1.04870793,  0.        ],\n",
       "        [ 1.        , 14.        ,  1.        ],\n",
       "        [ 1.        , 14.        ,  1.        ],\n",
       "        [ 0.65876285, 11.0101887 ,  0.49736484],\n",
       "        [ 0.86786796, 11.22245817,  0.67227948],\n",
       "        [ 0.72272582,  9.02840558,  0.48832274],\n",
       "        [ 0.18202183, 14.        ,  0.        ],\n",
       "        [ 1.        ,  9.49895767,  0.93084429],\n",
       "        [ 0.7546029 ,  8.8722532 ,  0.49096015],\n",
       "        [ 0.91018519,  0.        ,  0.66296296],\n",
       "        [ 1.        , 14.        ,  1.        ],\n",
       "        [ 0.32678792,  8.80712303,  0.2493    ],\n",
       "        [ 0.375     ,  0.        ,  0.81666667],\n",
       "        [ 0.71308112, 12.59743087,  0.6264434 ],\n",
       "        [ 0.09786518, 14.        ,  0.02066753],\n",
       "        [ 0.375     ,  0.        ,  0.81666667],\n",
       "        [ 0.63703704,  0.        ,  0.91018519],\n",
       "        [ 0.85517421, 11.15184632,  0.66465782],\n",
       "        [ 0.81666667,  0.        ,  0.64166667],\n",
       "        [ 0.72351252,  9.02641615,  0.48841783],\n",
       "        [ 1.        ,  9.49895767,  0.93084429],\n",
       "        [ 0.7546029 ,  8.8722532 ,  0.49096015]]),\n",
       " array([-16.51267481, -10.48729042, -10.48729042, -14.09733231,\n",
       "        -13.32124379, -14.26583581, -12.51372374, -13.16580168,\n",
       "        -14.13941302, -16.63553233, -10.97782917, -14.56926311,\n",
       "        -16.63553233, -14.11192179, -10.57497921, -16.63553233,\n",
       "        -16.63553233, -13.35023751, -16.63553233, -14.26278023,\n",
       "        -13.16580168, -14.13941302]),\n",
       " array([42.55951111, 30.50874233, 30.50874233, 37.7288261 , 36.17664906,\n",
       "        38.06583312, 34.56160897, 35.86576485, 37.81298754, 42.80522616,\n",
       "        31.48981982, 38.67268772, 42.80522616, 37.75800506, 30.68411991,\n",
       "        42.80522616, 42.80522616, 36.23463652, 42.80522616, 38.05972195,\n",
       "        35.86576485, 37.81298754]))"
      ]
     },
     "execution_count": 9,
     "metadata": {},
     "output_type": "execute_result"
    }
   ],
   "source": [
    "HM_fit(data2,ro)"
   ]
  },
  {
   "cell_type": "markdown",
   "id": "cb2ba011-25fc-44a0-b3bb-045625195f60",
   "metadata": {},
   "source": [
    "# Next step: 拿出BIC & LL & PE"
   ]
  },
  {
   "cell_type": "code",
   "execution_count": null,
   "id": "6756e873-880e-469b-ba2b-f4c009b62745",
   "metadata": {},
   "outputs": [],
   "source": []
  }
 ],
 "metadata": {
  "kernelspec": {
   "display_name": "Python 3",
   "language": "python",
   "name": "python3"
  },
  "language_info": {
   "codemirror_mode": {
    "name": "ipython",
    "version": 3
   },
   "file_extension": ".py",
   "mimetype": "text/x-python",
   "name": "python",
   "nbconvert_exporter": "python",
   "pygments_lexer": "ipython3",
   "version": "3.9.0"
  }
 },
 "nbformat": 4,
 "nbformat_minor": 5
}
